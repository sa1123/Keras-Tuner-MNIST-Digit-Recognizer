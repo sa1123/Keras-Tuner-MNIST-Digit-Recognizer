{
 "cells": [
  {
   "cell_type": "code",
   "execution_count": 3,
   "metadata": {
    "_cell_guid": "79c7e3d0-c299-4dcb-8224-4455121ee9b0",
    "_uuid": "d629ff2d2480ee46fbb7e2d37f6b5fab8052498a"
   },
   "outputs": [],
   "source": [
    "import tensorflow as tf\n",
    "from tensorflow import keras\n",
    "\n",
    "import IPython\n",
    "import kerastuner as kt\n",
    "\n",
    "import numpy as np\n",
    "import pandas as pd"
   ]
  },
  {
   "cell_type": "code",
   "execution_count": 4,
   "metadata": {},
   "outputs": [
    {
     "name": "stdout",
     "output_type": "stream",
     "text": [
      "Downloading data from https://storage.googleapis.com/tensorflow/tf-keras-datasets/mnist.npz\n",
      "11493376/11490434 [==============================] - ETA:  - ETA:  - 0s 0us/step\n"
     ]
    }
   ],
   "source": [
    "(img_train, label_train), (img_test, label_test) = keras.datasets.mnist.load_data()"
   ]
  },
  {
   "cell_type": "code",
   "execution_count": 5,
   "metadata": {},
   "outputs": [],
   "source": [
    "img_train = img_train.astype('float32') / 255.0\n",
    "img_test = img_test.astype('float32') / 255.0"
   ]
  },
  {
   "cell_type": "code",
   "execution_count": 6,
   "metadata": {},
   "outputs": [],
   "source": [
    "def model_builder(hp):\n",
    "  \n",
    "  model = keras.Sequential()\n",
    "  model.add(keras.layers.Flatten(input_shape=(28, 28)))\n",
    "  \n",
    "  # Tune the number of units in the first Dense layer\n",
    "  # Choose an optimal value between 32-512\n",
    "  hp_units = hp.Int('units', min_value = 32, max_value = 512, step = 32)\n",
    "  model.add(keras.layers.Dense(units = hp_units, activation = 'relu'))\n",
    "  model.add(keras.layers.Dense(10))\n",
    "\n",
    "  # Tune the learning rate for the optimizer \n",
    "  # Choose an optimal value from 0.01, 0.001, or 0.0001\n",
    "  hp_learning_rate = hp.Choice('learning_rate', values = [1e-2, 1e-3, 1e-4]) \n",
    "  \n",
    "  model.compile(optimizer = keras.optimizers.Adam(learning_rate = hp_learning_rate),\n",
    "                loss = keras.losses.SparseCategoricalCrossentropy(from_logits = True), \n",
    "                metrics = ['accuracy'])\n",
    "  \n",
    "  return model"
   ]
  },
  {
   "cell_type": "code",
   "execution_count": 8,
   "metadata": {},
   "outputs": [],
   "source": [
    "tuner = kt.Hyperband(model_builder,\n",
    "                     objective = 'val_accuracy', \n",
    "                     max_epochs = 10,\n",
    "                     factor = 3,\n",
    "                     directory = 'my_dir',\n",
    "                     project_name = 'MNIST_Digits_kt')"
   ]
  },
  {
   "cell_type": "code",
   "execution_count": 9,
   "metadata": {},
   "outputs": [],
   "source": [
    "class ClearTrainingOutput(tf.keras.callbacks.Callback):\n",
    "  def on_train_end(*args, **kwargs):\n",
    "    IPython.display.clear_output(wait = True)"
   ]
  },
  {
   "cell_type": "code",
   "execution_count": 10,
   "metadata": {},
   "outputs": [
    {
     "data": {
      "text/html": [
       "<span style=\"color:#4527A0\"><h1 style=\"font-size:18px\">Trial complete</h1></span>"
      ],
      "text/plain": [
       "<IPython.core.display.HTML object>"
      ]
     },
     "metadata": {},
     "output_type": "display_data"
    },
    {
     "data": {
      "text/html": [
       "<span style=\"color:#4527A0\"><h1 style=\"font-size:18px\">Trial summary</h1></span>"
      ],
      "text/plain": [
       "<IPython.core.display.HTML object>"
      ]
     },
     "metadata": {},
     "output_type": "display_data"
    },
    {
     "data": {
      "text/html": [
       "<span style=\"color:cyan\"> |-Trial ID: 82a9b80f24ad96252e769d7abf2ced79</span>"
      ],
      "text/plain": [
       "<IPython.core.display.HTML object>"
      ]
     },
     "metadata": {},
     "output_type": "display_data"
    },
    {
     "data": {
      "text/html": [
       "<span style=\"color:cyan\"> |-Score: 0.9764000177383423</span>"
      ],
      "text/plain": [
       "<IPython.core.display.HTML object>"
      ]
     },
     "metadata": {},
     "output_type": "display_data"
    },
    {
     "data": {
      "text/html": [
       "<span style=\"color:cyan\"> |-Best step: 0</span>"
      ],
      "text/plain": [
       "<IPython.core.display.HTML object>"
      ]
     },
     "metadata": {},
     "output_type": "display_data"
    },
    {
     "data": {
      "text/html": [
       "<span style=\"color:#7E57C2\"><h2 style=\"font-size:16px\">Hyperparameters:</h2></span>"
      ],
      "text/plain": [
       "<IPython.core.display.HTML object>"
      ]
     },
     "metadata": {},
     "output_type": "display_data"
    },
    {
     "data": {
      "text/html": [
       "<span style=\"color:cyan\"> |-learning_rate: 0.0001</span>"
      ],
      "text/plain": [
       "<IPython.core.display.HTML object>"
      ]
     },
     "metadata": {},
     "output_type": "display_data"
    },
    {
     "data": {
      "text/html": [
       "<span style=\"color:blue\"> |-tuner/bracket: 0</span>"
      ],
      "text/plain": [
       "<IPython.core.display.HTML object>"
      ]
     },
     "metadata": {},
     "output_type": "display_data"
    },
    {
     "data": {
      "text/html": [
       "<span style=\"color:cyan\"> |-tuner/epochs: 10</span>"
      ],
      "text/plain": [
       "<IPython.core.display.HTML object>"
      ]
     },
     "metadata": {},
     "output_type": "display_data"
    },
    {
     "data": {
      "text/html": [
       "<span style=\"color:blue\"> |-tuner/initial_epoch: 0</span>"
      ],
      "text/plain": [
       "<IPython.core.display.HTML object>"
      ]
     },
     "metadata": {},
     "output_type": "display_data"
    },
    {
     "data": {
      "text/html": [
       "<span style=\"color:cyan\"> |-tuner/round: 0</span>"
      ],
      "text/plain": [
       "<IPython.core.display.HTML object>"
      ]
     },
     "metadata": {},
     "output_type": "display_data"
    },
    {
     "data": {
      "text/html": [
       "<span style=\"color:blue\"> |-units: 384</span>"
      ],
      "text/plain": [
       "<IPython.core.display.HTML object>"
      ]
     },
     "metadata": {},
     "output_type": "display_data"
    },
    {
     "name": "stdout",
     "output_type": "stream",
     "text": [
      "\n",
      "The hyperparameter search is complete. The optimal number of units in the first densely-connected\n",
      "layer is 256 and the optimal learning rate for the optimizer\n",
      "is 0.001.\n",
      "\n"
     ]
    }
   ],
   "source": [
    "tuner.search(img_train, label_train, epochs = 10, validation_data = (img_test, label_test), callbacks = [ClearTrainingOutput()])\n",
    "\n",
    "# Get the optimal hyperparameters\n",
    "best_hps = tuner.get_best_hyperparameters(num_trials = 1)[0]\n",
    "\n",
    "print(f\"\"\"\n",
    "The hyperparameter search is complete. The optimal number of units in the first densely-connected\n",
    "layer is {best_hps.get('units')} and the optimal learning rate for the optimizer\n",
    "is {best_hps.get('learning_rate')}.\n",
    "\"\"\")"
   ]
  },
  {
   "cell_type": "code",
   "execution_count": 16,
   "metadata": {},
   "outputs": [
    {
     "name": "stdout",
     "output_type": "stream",
     "text": [
      "Epoch 1/10\n",
      "1875/1875 [==============================] - ETA: 0s - loss: 2.3828 - accuracy: 0.09 - ETA: 3s - loss: 1.4701 - accuracy: 0.58 - ETA: 3s - loss: 1.0727 - accuracy: 0.70 - ETA: 3s - loss: 0.8977 - accuracy: 0.74 - ETA: 3s - loss: 0.7866 - accuracy: 0.77 - ETA: 3s - loss: 0.7169 - accuracy: 0.79 - ETA: 3s - loss: 0.6589 - accuracy: 0.81 - ETA: 3s - loss: 0.6171 - accuracy: 0.82 - ETA: 3s - loss: 0.5800 - accuracy: 0.83 - ETA: 3s - loss: 0.5506 - accuracy: 0.84 - ETA: 3s - loss: 0.5298 - accuracy: 0.85 - ETA: 3s - loss: 0.5072 - accuracy: 0.85 - ETA: 3s - loss: 0.4836 - accuracy: 0.86 - ETA: 3s - loss: 0.4639 - accuracy: 0.86 - ETA: 3s - loss: 0.4538 - accuracy: 0.87 - ETA: 3s - loss: 0.4399 - accuracy: 0.87 - ETA: 2s - loss: 0.4291 - accuracy: 0.87 - ETA: 2s - loss: 0.4178 - accuracy: 0.88 - ETA: 2s - loss: 0.4077 - accuracy: 0.88 - ETA: 2s - loss: 0.4000 - accuracy: 0.88 - ETA: 2s - loss: 0.3905 - accuracy: 0.89 - ETA: 2s - loss: 0.3843 - accuracy: 0.89 - ETA: 2s - loss: 0.3775 - accuracy: 0.89 - ETA: 2s - loss: 0.3704 - accuracy: 0.89 - ETA: 2s - loss: 0.3644 - accuracy: 0.89 - ETA: 2s - loss: 0.3594 - accuracy: 0.89 - ETA: 2s - loss: 0.3522 - accuracy: 0.90 - ETA: 2s - loss: 0.3467 - accuracy: 0.90 - ETA: 2s - loss: 0.3412 - accuracy: 0.90 - ETA: 2s - loss: 0.3351 - accuracy: 0.90 - ETA: 2s - loss: 0.3293 - accuracy: 0.90 - ETA: 2s - loss: 0.3255 - accuracy: 0.90 - ETA: 2s - loss: 0.3211 - accuracy: 0.90 - ETA: 2s - loss: 0.3177 - accuracy: 0.91 - ETA: 2s - loss: 0.3143 - accuracy: 0.91 - ETA: 2s - loss: 0.3108 - accuracy: 0.91 - ETA: 1s - loss: 0.3068 - accuracy: 0.91 - ETA: 1s - loss: 0.3041 - accuracy: 0.91 - ETA: 1s - loss: 0.3003 - accuracy: 0.91 - ETA: 1s - loss: 0.2967 - accuracy: 0.91 - ETA: 1s - loss: 0.2941 - accuracy: 0.91 - ETA: 1s - loss: 0.2920 - accuracy: 0.91 - ETA: 1s - loss: 0.2889 - accuracy: 0.91 - ETA: 1s - loss: 0.2857 - accuracy: 0.91 - ETA: 1s - loss: 0.2830 - accuracy: 0.91 - ETA: 1s - loss: 0.2812 - accuracy: 0.92 - ETA: 1s - loss: 0.2789 - accuracy: 0.92 - ETA: 1s - loss: 0.2770 - accuracy: 0.92 - ETA: 1s - loss: 0.2744 - accuracy: 0.92 - ETA: 1s - loss: 0.2720 - accuracy: 0.92 - ETA: 1s - loss: 0.2692 - accuracy: 0.92 - ETA: 1s - loss: 0.2667 - accuracy: 0.92 - ETA: 1s - loss: 0.2643 - accuracy: 0.92 - ETA: 1s - loss: 0.2621 - accuracy: 0.92 - ETA: 1s - loss: 0.2604 - accuracy: 0.92 - ETA: 1s - loss: 0.2580 - accuracy: 0.92 - ETA: 0s - loss: 0.2561 - accuracy: 0.92 - ETA: 0s - loss: 0.2543 - accuracy: 0.92 - ETA: 0s - loss: 0.2523 - accuracy: 0.92 - ETA: 0s - loss: 0.2505 - accuracy: 0.92 - ETA: 0s - loss: 0.2483 - accuracy: 0.92 - ETA: 0s - loss: 0.2467 - accuracy: 0.92 - ETA: 0s - loss: 0.2445 - accuracy: 0.93 - ETA: 0s - loss: 0.2434 - accuracy: 0.93 - ETA: 0s - loss: 0.2413 - accuracy: 0.93 - ETA: 0s - loss: 0.2397 - accuracy: 0.93 - ETA: 0s - loss: 0.2383 - accuracy: 0.93 - ETA: 0s - loss: 0.2364 - accuracy: 0.93 - ETA: 0s - loss: 0.2345 - accuracy: 0.93 - ETA: 0s - loss: 0.2331 - accuracy: 0.93 - ETA: 0s - loss: 0.2314 - accuracy: 0.93 - ETA: 0s - loss: 0.2298 - accuracy: 0.93 - ETA: 0s - loss: 0.2286 - accuracy: 0.93 - ETA: 0s - loss: 0.2267 - accuracy: 0.93 - ETA: 0s - loss: 0.2254 - accuracy: 0.93 - ETA: 0s - loss: 0.2245 - accuracy: 0.93 - 4s 2ms/step - loss: 0.2245 - accuracy: 0.9357 - val_loss: 0.1101 - val_accuracy: 0.9678\n",
      "Epoch 2/10\n",
      "1875/1875 [==============================] - ETA: 0s - loss: 0.3864 - accuracy: 0.90 - ETA: 3s - loss: 0.1012 - accuracy: 0.97 - ETA: 3s - loss: 0.0913 - accuracy: 0.97 - ETA: 3s - loss: 0.0996 - accuracy: 0.97 - ETA: 3s - loss: 0.1003 - accuracy: 0.97 - ETA: 3s - loss: 0.0979 - accuracy: 0.97 - ETA: 3s - loss: 0.1046 - accuracy: 0.97 - ETA: 3s - loss: 0.1050 - accuracy: 0.97 - ETA: 3s - loss: 0.1046 - accuracy: 0.97 - ETA: 3s - loss: 0.1053 - accuracy: 0.97 - ETA: 3s - loss: 0.1037 - accuracy: 0.97 - ETA: 3s - loss: 0.1032 - accuracy: 0.97 - ETA: 3s - loss: 0.1039 - accuracy: 0.97 - ETA: 3s - loss: 0.1038 - accuracy: 0.97 - ETA: 3s - loss: 0.1028 - accuracy: 0.97 - ETA: 3s - loss: 0.1059 - accuracy: 0.97 - ETA: 3s - loss: 0.1072 - accuracy: 0.97 - ETA: 3s - loss: 0.1055 - accuracy: 0.97 - ETA: 2s - loss: 0.1049 - accuracy: 0.97 - ETA: 2s - loss: 0.1031 - accuracy: 0.97 - ETA: 2s - loss: 0.1017 - accuracy: 0.97 - ETA: 2s - loss: 0.1025 - accuracy: 0.97 - ETA: 2s - loss: 0.1029 - accuracy: 0.97 - ETA: 2s - loss: 0.1028 - accuracy: 0.97 - ETA: 2s - loss: 0.1019 - accuracy: 0.97 - ETA: 2s - loss: 0.1005 - accuracy: 0.97 - ETA: 2s - loss: 0.1003 - accuracy: 0.97 - ETA: 2s - loss: 0.0998 - accuracy: 0.97 - ETA: 2s - loss: 0.1011 - accuracy: 0.97 - ETA: 2s - loss: 0.1008 - accuracy: 0.97 - ETA: 2s - loss: 0.0999 - accuracy: 0.97 - ETA: 2s - loss: 0.0995 - accuracy: 0.97 - ETA: 2s - loss: 0.0990 - accuracy: 0.97 - ETA: 2s - loss: 0.0988 - accuracy: 0.97 - ETA: 2s - loss: 0.0986 - accuracy: 0.97 - ETA: 2s - loss: 0.0977 - accuracy: 0.97 - ETA: 2s - loss: 0.0973 - accuracy: 0.97 - ETA: 2s - loss: 0.0971 - accuracy: 0.97 - ETA: 2s - loss: 0.0982 - accuracy: 0.97 - ETA: 2s - loss: 0.0981 - accuracy: 0.97 - ETA: 1s - loss: 0.0979 - accuracy: 0.97 - ETA: 1s - loss: 0.0975 - accuracy: 0.97 - ETA: 1s - loss: 0.0974 - accuracy: 0.97 - ETA: 1s - loss: 0.0981 - accuracy: 0.97 - ETA: 1s - loss: 0.0986 - accuracy: 0.97 - ETA: 1s - loss: 0.0982 - accuracy: 0.97 - ETA: 1s - loss: 0.0978 - accuracy: 0.97 - ETA: 1s - loss: 0.0980 - accuracy: 0.97 - ETA: 1s - loss: 0.0977 - accuracy: 0.97 - ETA: 1s - loss: 0.0974 - accuracy: 0.97 - ETA: 1s - loss: 0.0973 - accuracy: 0.97 - ETA: 1s - loss: 0.0970 - accuracy: 0.97 - ETA: 1s - loss: 0.0969 - accuracy: 0.97 - ETA: 1s - loss: 0.0971 - accuracy: 0.97 - ETA: 1s - loss: 0.0974 - accuracy: 0.97 - ETA: 1s - loss: 0.0967 - accuracy: 0.97 - ETA: 1s - loss: 0.0966 - accuracy: 0.97 - ETA: 1s - loss: 0.0964 - accuracy: 0.97 - ETA: 1s - loss: 0.0962 - accuracy: 0.97 - ETA: 0s - loss: 0.0958 - accuracy: 0.97 - ETA: 0s - loss: 0.0955 - accuracy: 0.97 - ETA: 0s - loss: 0.0949 - accuracy: 0.97 - ETA: 0s - loss: 0.0943 - accuracy: 0.97 - ETA: 0s - loss: 0.0939 - accuracy: 0.97 - ETA: 0s - loss: 0.0936 - accuracy: 0.97 - ETA: 0s - loss: 0.0932 - accuracy: 0.97 - ETA: 0s - loss: 0.0931 - accuracy: 0.97 - ETA: 0s - loss: 0.0933 - accuracy: 0.97 - ETA: 0s - loss: 0.0932 - accuracy: 0.97 - ETA: 0s - loss: 0.0934 - accuracy: 0.97 - ETA: 0s - loss: 0.0935 - accuracy: 0.97 - ETA: 0s - loss: 0.0932 - accuracy: 0.97 - ETA: 0s - loss: 0.0928 - accuracy: 0.97 - ETA: 0s - loss: 0.0926 - accuracy: 0.97 - ETA: 0s - loss: 0.0923 - accuracy: 0.97 - ETA: 0s - loss: 0.0924 - accuracy: 0.97 - ETA: 0s - loss: 0.0923 - accuracy: 0.97 - ETA: 0s - loss: 0.0923 - accuracy: 0.97 - 4s 2ms/step - loss: 0.0923 - accuracy: 0.9725 - val_loss: 0.0790 - val_accuracy: 0.9755\n",
      "Epoch 3/10\n",
      "1875/1875 [==============================] - ETA: 0s - loss: 0.0251 - accuracy: 1.00 - ETA: 3s - loss: 0.0424 - accuracy: 0.98 - ETA: 3s - loss: 0.0597 - accuracy: 0.98 - ETA: 3s - loss: 0.0652 - accuracy: 0.97 - ETA: 3s - loss: 0.0667 - accuracy: 0.97 - ETA: 3s - loss: 0.0669 - accuracy: 0.97 - ETA: 3s - loss: 0.0677 - accuracy: 0.97 - ETA: 3s - loss: 0.0679 - accuracy: 0.97 - ETA: 3s - loss: 0.0652 - accuracy: 0.97 - ETA: 3s - loss: 0.0647 - accuracy: 0.97 - ETA: 3s - loss: 0.0626 - accuracy: 0.98 - ETA: 3s - loss: 0.0601 - accuracy: 0.98 - ETA: 3s - loss: 0.0581 - accuracy: 0.98 - ETA: 3s - loss: 0.0585 - accuracy: 0.98 - ETA: 3s - loss: 0.0598 - accuracy: 0.98 - ETA: 3s - loss: 0.0607 - accuracy: 0.98 - ETA: 3s - loss: 0.0613 - accuracy: 0.98 - ETA: 3s - loss: 0.0617 - accuracy: 0.98 - ETA: 3s - loss: 0.0624 - accuracy: 0.98 - ETA: 2s - loss: 0.0621 - accuracy: 0.98 - ETA: 2s - loss: 0.0621 - accuracy: 0.98 - ETA: 2s - loss: 0.0622 - accuracy: 0.98 - ETA: 2s - loss: 0.0619 - accuracy: 0.98 - ETA: 2s - loss: 0.0616 - accuracy: 0.98 - ETA: 2s - loss: 0.0610 - accuracy: 0.98 - ETA: 2s - loss: 0.0600 - accuracy: 0.98 - ETA: 2s - loss: 0.0597 - accuracy: 0.98 - ETA: 2s - loss: 0.0601 - accuracy: 0.98 - ETA: 2s - loss: 0.0612 - accuracy: 0.98 - ETA: 2s - loss: 0.0619 - accuracy: 0.98 - ETA: 2s - loss: 0.0619 - accuracy: 0.98 - ETA: 2s - loss: 0.0625 - accuracy: 0.98 - ETA: 2s - loss: 0.0633 - accuracy: 0.98 - ETA: 2s - loss: 0.0635 - accuracy: 0.98 - ETA: 2s - loss: 0.0632 - accuracy: 0.98 - ETA: 2s - loss: 0.0628 - accuracy: 0.98 - ETA: 2s - loss: 0.0626 - accuracy: 0.98 - ETA: 1s - loss: 0.0627 - accuracy: 0.98 - ETA: 1s - loss: 0.0624 - accuracy: 0.98 - ETA: 1s - loss: 0.0627 - accuracy: 0.98 - ETA: 1s - loss: 0.0623 - accuracy: 0.98 - ETA: 1s - loss: 0.0620 - accuracy: 0.98 - ETA: 1s - loss: 0.0616 - accuracy: 0.98 - ETA: 1s - loss: 0.0615 - accuracy: 0.98 - ETA: 1s - loss: 0.0614 - accuracy: 0.98 - ETA: 1s - loss: 0.0611 - accuracy: 0.98 - ETA: 1s - loss: 0.0616 - accuracy: 0.98 - ETA: 1s - loss: 0.0613 - accuracy: 0.98 - ETA: 1s - loss: 0.0611 - accuracy: 0.98 - ETA: 1s - loss: 0.0611 - accuracy: 0.98 - ETA: 1s - loss: 0.0612 - accuracy: 0.98 - ETA: 1s - loss: 0.0614 - accuracy: 0.98 - ETA: 1s - loss: 0.0608 - accuracy: 0.98 - ETA: 1s - loss: 0.0604 - accuracy: 0.98 - ETA: 1s - loss: 0.0603 - accuracy: 0.98 - ETA: 1s - loss: 0.0599 - accuracy: 0.98 - ETA: 1s - loss: 0.0597 - accuracy: 0.98 - ETA: 0s - loss: 0.0596 - accuracy: 0.98 - ETA: 0s - loss: 0.0600 - accuracy: 0.98 - ETA: 0s - loss: 0.0605 - accuracy: 0.98 - ETA: 0s - loss: 0.0605 - accuracy: 0.98 - ETA: 0s - loss: 0.0608 - accuracy: 0.98 - ETA: 0s - loss: 0.0608 - accuracy: 0.98 - ETA: 0s - loss: 0.0609 - accuracy: 0.98 - ETA: 0s - loss: 0.0609 - accuracy: 0.98 - ETA: 0s - loss: 0.0609 - accuracy: 0.98 - ETA: 0s - loss: 0.0613 - accuracy: 0.98 - ETA: 0s - loss: 0.0611 - accuracy: 0.98 - ETA: 0s - loss: 0.0614 - accuracy: 0.98 - ETA: 0s - loss: 0.0617 - accuracy: 0.98 - ETA: 0s - loss: 0.0617 - accuracy: 0.98 - ETA: 0s - loss: 0.0617 - accuracy: 0.98 - ETA: 0s - loss: 0.0616 - accuracy: 0.98 - ETA: 0s - loss: 0.0615 - accuracy: 0.98 - ETA: 0s - loss: 0.0616 - accuracy: 0.98 - ETA: 0s - loss: 0.0614 - accuracy: 0.98 - 4s 2ms/step - loss: 0.0614 - accuracy: 0.9808 - val_loss: 0.0739 - val_accuracy: 0.9757\n",
      "Epoch 4/10\n",
      "1875/1875 [==============================] - ETA: 0s - loss: 0.0138 - accuracy: 1.00 - ETA: 3s - loss: 0.0289 - accuracy: 0.99 - ETA: 3s - loss: 0.0319 - accuracy: 0.98 - ETA: 3s - loss: 0.0352 - accuracy: 0.98 - ETA: 3s - loss: 0.0372 - accuracy: 0.98 - ETA: 3s - loss: 0.0405 - accuracy: 0.98 - ETA: 3s - loss: 0.0391 - accuracy: 0.98 - ETA: 3s - loss: 0.0401 - accuracy: 0.98 - ETA: 3s - loss: 0.0393 - accuracy: 0.98 - ETA: 3s - loss: 0.0397 - accuracy: 0.98 - ETA: 3s - loss: 0.0403 - accuracy: 0.98 - ETA: 3s - loss: 0.0392 - accuracy: 0.98 - ETA: 3s - loss: 0.0393 - accuracy: 0.98 - ETA: 3s - loss: 0.0393 - accuracy: 0.98 - ETA: 3s - loss: 0.0388 - accuracy: 0.98 - ETA: 3s - loss: 0.0386 - accuracy: 0.98 - ETA: 3s - loss: 0.0389 - accuracy: 0.98 - ETA: 3s - loss: 0.0380 - accuracy: 0.98 - ETA: 2s - loss: 0.0378 - accuracy: 0.98 - ETA: 2s - loss: 0.0380 - accuracy: 0.98 - ETA: 2s - loss: 0.0376 - accuracy: 0.98 - ETA: 2s - loss: 0.0369 - accuracy: 0.98 - ETA: 2s - loss: 0.0378 - accuracy: 0.98 - ETA: 2s - loss: 0.0383 - accuracy: 0.98 - ETA: 2s - loss: 0.0385 - accuracy: 0.98 - ETA: 2s - loss: 0.0391 - accuracy: 0.98 - ETA: 2s - loss: 0.0390 - accuracy: 0.98 - ETA: 2s - loss: 0.0393 - accuracy: 0.98 - ETA: 2s - loss: 0.0394 - accuracy: 0.98 - ETA: 2s - loss: 0.0394 - accuracy: 0.98 - ETA: 2s - loss: 0.0404 - accuracy: 0.98 - ETA: 2s - loss: 0.0404 - accuracy: 0.98 - ETA: 2s - loss: 0.0408 - accuracy: 0.98 - ETA: 2s - loss: 0.0409 - accuracy: 0.98 - ETA: 2s - loss: 0.0408 - accuracy: 0.98 - ETA: 2s - loss: 0.0404 - accuracy: 0.98 - ETA: 2s - loss: 0.0407 - accuracy: 0.98 - ETA: 2s - loss: 0.0406 - accuracy: 0.98 - ETA: 2s - loss: 0.0409 - accuracy: 0.98 - ETA: 2s - loss: 0.0413 - accuracy: 0.98 - ETA: 2s - loss: 0.0419 - accuracy: 0.98 - ETA: 2s - loss: 0.0420 - accuracy: 0.98 - ETA: 2s - loss: 0.0420 - accuracy: 0.98 - ETA: 2s - loss: 0.0422 - accuracy: 0.98 - ETA: 2s - loss: 0.0423 - accuracy: 0.98 - ETA: 1s - loss: 0.0426 - accuracy: 0.98 - ETA: 1s - loss: 0.0426 - accuracy: 0.98 - ETA: 1s - loss: 0.0428 - accuracy: 0.98 - ETA: 1s - loss: 0.0426 - accuracy: 0.98 - ETA: 1s - loss: 0.0425 - accuracy: 0.98 - ETA: 1s - loss: 0.0421 - accuracy: 0.98 - ETA: 1s - loss: 0.0420 - accuracy: 0.98 - ETA: 1s - loss: 0.0418 - accuracy: 0.98 - ETA: 1s - loss: 0.0422 - accuracy: 0.98 - ETA: 1s - loss: 0.0420 - accuracy: 0.98 - ETA: 1s - loss: 0.0428 - accuracy: 0.98 - ETA: 1s - loss: 0.0428 - accuracy: 0.98 - ETA: 1s - loss: 0.0430 - accuracy: 0.98 - ETA: 1s - loss: 0.0428 - accuracy: 0.98 - ETA: 1s - loss: 0.0432 - accuracy: 0.98 - ETA: 1s - loss: 0.0435 - accuracy: 0.98 - ETA: 1s - loss: 0.0433 - accuracy: 0.98 - ETA: 1s - loss: 0.0431 - accuracy: 0.98 - ETA: 0s - loss: 0.0430 - accuracy: 0.98 - ETA: 0s - loss: 0.0431 - accuracy: 0.98 - ETA: 0s - loss: 0.0430 - accuracy: 0.98 - ETA: 0s - loss: 0.0428 - accuracy: 0.98 - ETA: 0s - loss: 0.0431 - accuracy: 0.98 - ETA: 0s - loss: 0.0434 - accuracy: 0.98 - ETA: 0s - loss: 0.0438 - accuracy: 0.98 - ETA: 0s - loss: 0.0439 - accuracy: 0.98 - ETA: 0s - loss: 0.0440 - accuracy: 0.98 - ETA: 0s - loss: 0.0438 - accuracy: 0.98 - ETA: 0s - loss: 0.0435 - accuracy: 0.98 - ETA: 0s - loss: 0.0433 - accuracy: 0.98 - ETA: 0s - loss: 0.0431 - accuracy: 0.98 - ETA: 0s - loss: 0.0432 - accuracy: 0.98 - ETA: 0s - loss: 0.0433 - accuracy: 0.98 - ETA: 0s - loss: 0.0433 - accuracy: 0.98 - ETA: 0s - loss: 0.0435 - accuracy: 0.98 - ETA: 0s - loss: 0.0435 - accuracy: 0.98 - 5s 2ms/step - loss: 0.0435 - accuracy: 0.9866 - val_loss: 0.0707 - val_accuracy: 0.9773\n",
      "Epoch 5/10\n"
     ]
    },
    {
     "name": "stdout",
     "output_type": "stream",
     "text": [
      "1875/1875 [==============================] - ETA: 0s - loss: 0.0018 - accuracy: 1.00 - ETA: 3s - loss: 0.0252 - accuracy: 0.99 - ETA: 4s - loss: 0.0235 - accuracy: 0.99 - ETA: 4s - loss: 0.0294 - accuracy: 0.99 - ETA: 4s - loss: 0.0292 - accuracy: 0.99 - ETA: 4s - loss: 0.0276 - accuracy: 0.99 - ETA: 3s - loss: 0.0270 - accuracy: 0.99 - ETA: 3s - loss: 0.0275 - accuracy: 0.99 - ETA: 3s - loss: 0.0292 - accuracy: 0.99 - ETA: 3s - loss: 0.0277 - accuracy: 0.99 - ETA: 3s - loss: 0.0275 - accuracy: 0.99 - ETA: 3s - loss: 0.0274 - accuracy: 0.99 - ETA: 3s - loss: 0.0271 - accuracy: 0.99 - ETA: 3s - loss: 0.0269 - accuracy: 0.99 - ETA: 3s - loss: 0.0265 - accuracy: 0.99 - ETA: 3s - loss: 0.0264 - accuracy: 0.99 - ETA: 3s - loss: 0.0260 - accuracy: 0.99 - ETA: 3s - loss: 0.0257 - accuracy: 0.99 - ETA: 3s - loss: 0.0253 - accuracy: 0.99 - ETA: 3s - loss: 0.0261 - accuracy: 0.99 - ETA: 2s - loss: 0.0261 - accuracy: 0.99 - ETA: 2s - loss: 0.0261 - accuracy: 0.99 - ETA: 2s - loss: 0.0260 - accuracy: 0.99 - ETA: 2s - loss: 0.0261 - accuracy: 0.99 - ETA: 2s - loss: 0.0268 - accuracy: 0.99 - ETA: 2s - loss: 0.0267 - accuracy: 0.99 - ETA: 2s - loss: 0.0274 - accuracy: 0.99 - ETA: 2s - loss: 0.0268 - accuracy: 0.99 - ETA: 2s - loss: 0.0269 - accuracy: 0.99 - ETA: 2s - loss: 0.0274 - accuracy: 0.99 - ETA: 2s - loss: 0.0275 - accuracy: 0.99 - ETA: 2s - loss: 0.0275 - accuracy: 0.99 - ETA: 2s - loss: 0.0274 - accuracy: 0.99 - ETA: 2s - loss: 0.0274 - accuracy: 0.99 - ETA: 2s - loss: 0.0274 - accuracy: 0.99 - ETA: 2s - loss: 0.0272 - accuracy: 0.99 - ETA: 2s - loss: 0.0276 - accuracy: 0.99 - ETA: 2s - loss: 0.0275 - accuracy: 0.99 - ETA: 2s - loss: 0.0276 - accuracy: 0.99 - ETA: 2s - loss: 0.0275 - accuracy: 0.99 - ETA: 2s - loss: 0.0278 - accuracy: 0.99 - ETA: 2s - loss: 0.0279 - accuracy: 0.99 - ETA: 2s - loss: 0.0280 - accuracy: 0.99 - ETA: 1s - loss: 0.0283 - accuracy: 0.99 - ETA: 1s - loss: 0.0284 - accuracy: 0.99 - ETA: 1s - loss: 0.0285 - accuracy: 0.99 - ETA: 1s - loss: 0.0285 - accuracy: 0.99 - ETA: 1s - loss: 0.0287 - accuracy: 0.99 - ETA: 1s - loss: 0.0289 - accuracy: 0.99 - ETA: 1s - loss: 0.0291 - accuracy: 0.99 - ETA: 1s - loss: 0.0292 - accuracy: 0.99 - ETA: 1s - loss: 0.0294 - accuracy: 0.99 - ETA: 1s - loss: 0.0296 - accuracy: 0.99 - ETA: 1s - loss: 0.0300 - accuracy: 0.99 - ETA: 1s - loss: 0.0304 - accuracy: 0.99 - ETA: 1s - loss: 0.0304 - accuracy: 0.99 - ETA: 1s - loss: 0.0305 - accuracy: 0.99 - ETA: 1s - loss: 0.0307 - accuracy: 0.98 - ETA: 1s - loss: 0.0306 - accuracy: 0.98 - ETA: 1s - loss: 0.0309 - accuracy: 0.98 - ETA: 1s - loss: 0.0308 - accuracy: 0.98 - ETA: 0s - loss: 0.0309 - accuracy: 0.98 - ETA: 0s - loss: 0.0308 - accuracy: 0.98 - ETA: 0s - loss: 0.0309 - accuracy: 0.98 - ETA: 0s - loss: 0.0306 - accuracy: 0.98 - ETA: 0s - loss: 0.0305 - accuracy: 0.98 - ETA: 0s - loss: 0.0306 - accuracy: 0.98 - ETA: 0s - loss: 0.0309 - accuracy: 0.98 - ETA: 0s - loss: 0.0310 - accuracy: 0.98 - ETA: 0s - loss: 0.0309 - accuracy: 0.98 - ETA: 0s - loss: 0.0309 - accuracy: 0.98 - ETA: 0s - loss: 0.0310 - accuracy: 0.98 - ETA: 0s - loss: 0.0310 - accuracy: 0.98 - ETA: 0s - loss: 0.0313 - accuracy: 0.98 - ETA: 0s - loss: 0.0313 - accuracy: 0.98 - ETA: 0s - loss: 0.0315 - accuracy: 0.98 - ETA: 0s - loss: 0.0316 - accuracy: 0.98 - ETA: 0s - loss: 0.0314 - accuracy: 0.98 - ETA: 0s - loss: 0.0312 - accuracy: 0.98 - ETA: 0s - loss: 0.0315 - accuracy: 0.98 - 5s 2ms/step - loss: 0.0315 - accuracy: 0.9896 - val_loss: 0.0823 - val_accuracy: 0.9757\n",
      "Epoch 6/10\n",
      "1875/1875 [==============================] - ETA: 0s - loss: 0.0963 - accuracy: 0.96 - ETA: 3s - loss: 0.0272 - accuracy: 0.99 - ETA: 3s - loss: 0.0251 - accuracy: 0.99 - ETA: 3s - loss: 0.0218 - accuracy: 0.99 - ETA: 3s - loss: 0.0216 - accuracy: 0.99 - ETA: 3s - loss: 0.0201 - accuracy: 0.99 - ETA: 3s - loss: 0.0200 - accuracy: 0.99 - ETA: 3s - loss: 0.0205 - accuracy: 0.99 - ETA: 3s - loss: 0.0212 - accuracy: 0.99 - ETA: 3s - loss: 0.0218 - accuracy: 0.99 - ETA: 3s - loss: 0.0218 - accuracy: 0.99 - ETA: 3s - loss: 0.0218 - accuracy: 0.99 - ETA: 3s - loss: 0.0212 - accuracy: 0.99 - ETA: 3s - loss: 0.0208 - accuracy: 0.99 - ETA: 3s - loss: 0.0205 - accuracy: 0.99 - ETA: 3s - loss: 0.0210 - accuracy: 0.99 - ETA: 3s - loss: 0.0207 - accuracy: 0.99 - ETA: 3s - loss: 0.0209 - accuracy: 0.99 - ETA: 3s - loss: 0.0208 - accuracy: 0.99 - ETA: 2s - loss: 0.0213 - accuracy: 0.99 - ETA: 2s - loss: 0.0213 - accuracy: 0.99 - ETA: 2s - loss: 0.0214 - accuracy: 0.99 - ETA: 2s - loss: 0.0212 - accuracy: 0.99 - ETA: 2s - loss: 0.0223 - accuracy: 0.99 - ETA: 2s - loss: 0.0227 - accuracy: 0.99 - ETA: 2s - loss: 0.0227 - accuracy: 0.99 - ETA: 2s - loss: 0.0232 - accuracy: 0.99 - ETA: 2s - loss: 0.0229 - accuracy: 0.99 - ETA: 2s - loss: 0.0232 - accuracy: 0.99 - ETA: 2s - loss: 0.0237 - accuracy: 0.99 - ETA: 2s - loss: 0.0235 - accuracy: 0.99 - ETA: 2s - loss: 0.0231 - accuracy: 0.99 - ETA: 2s - loss: 0.0228 - accuracy: 0.99 - ETA: 2s - loss: 0.0229 - accuracy: 0.99 - ETA: 2s - loss: 0.0228 - accuracy: 0.99 - ETA: 2s - loss: 0.0227 - accuracy: 0.99 - ETA: 2s - loss: 0.0226 - accuracy: 0.99 - ETA: 2s - loss: 0.0224 - accuracy: 0.99 - ETA: 2s - loss: 0.0224 - accuracy: 0.99 - ETA: 1s - loss: 0.0224 - accuracy: 0.99 - ETA: 1s - loss: 0.0227 - accuracy: 0.99 - ETA: 1s - loss: 0.0229 - accuracy: 0.99 - ETA: 1s - loss: 0.0232 - accuracy: 0.99 - ETA: 1s - loss: 0.0233 - accuracy: 0.99 - ETA: 1s - loss: 0.0231 - accuracy: 0.99 - ETA: 1s - loss: 0.0229 - accuracy: 0.99 - ETA: 1s - loss: 0.0229 - accuracy: 0.99 - ETA: 1s - loss: 0.0230 - accuracy: 0.99 - ETA: 1s - loss: 0.0232 - accuracy: 0.99 - ETA: 1s - loss: 0.0232 - accuracy: 0.99 - ETA: 1s - loss: 0.0235 - accuracy: 0.99 - ETA: 1s - loss: 0.0237 - accuracy: 0.99 - ETA: 1s - loss: 0.0236 - accuracy: 0.99 - ETA: 1s - loss: 0.0236 - accuracy: 0.99 - ETA: 1s - loss: 0.0237 - accuracy: 0.99 - ETA: 1s - loss: 0.0238 - accuracy: 0.99 - ETA: 1s - loss: 0.0236 - accuracy: 0.99 - ETA: 1s - loss: 0.0238 - accuracy: 0.99 - ETA: 1s - loss: 0.0239 - accuracy: 0.99 - ETA: 0s - loss: 0.0238 - accuracy: 0.99 - ETA: 0s - loss: 0.0238 - accuracy: 0.99 - ETA: 0s - loss: 0.0239 - accuracy: 0.99 - ETA: 0s - loss: 0.0239 - accuracy: 0.99 - ETA: 0s - loss: 0.0238 - accuracy: 0.99 - ETA: 0s - loss: 0.0238 - accuracy: 0.99 - ETA: 0s - loss: 0.0240 - accuracy: 0.99 - ETA: 0s - loss: 0.0239 - accuracy: 0.99 - ETA: 0s - loss: 0.0238 - accuracy: 0.99 - ETA: 0s - loss: 0.0238 - accuracy: 0.99 - ETA: 0s - loss: 0.0237 - accuracy: 0.99 - ETA: 0s - loss: 0.0240 - accuracy: 0.99 - ETA: 0s - loss: 0.0239 - accuracy: 0.99 - ETA: 0s - loss: 0.0239 - accuracy: 0.99 - ETA: 0s - loss: 0.0239 - accuracy: 0.99 - ETA: 0s - loss: 0.0240 - accuracy: 0.99 - ETA: 0s - loss: 0.0243 - accuracy: 0.99 - ETA: 0s - loss: 0.0243 - accuracy: 0.99 - ETA: 0s - loss: 0.0243 - accuracy: 0.99 - ETA: 0s - loss: 0.0243 - accuracy: 0.99 - 4s 2ms/step - loss: 0.0243 - accuracy: 0.9924 - val_loss: 0.0682 - val_accuracy: 0.9801\n",
      "Epoch 7/10\n",
      "1875/1875 [==============================] - ETA: 0s - loss: 0.0072 - accuracy: 1.00 - ETA: 3s - loss: 0.0110 - accuracy: 0.99 - ETA: 3s - loss: 0.0107 - accuracy: 0.99 - ETA: 3s - loss: 0.0157 - accuracy: 0.99 - ETA: 3s - loss: 0.0159 - accuracy: 0.99 - ETA: 3s - loss: 0.0148 - accuracy: 0.99 - ETA: 3s - loss: 0.0141 - accuracy: 0.99 - ETA: 3s - loss: 0.0143 - accuracy: 0.99 - ETA: 3s - loss: 0.0151 - accuracy: 0.99 - ETA: 3s - loss: 0.0162 - accuracy: 0.99 - ETA: 3s - loss: 0.0171 - accuracy: 0.99 - ETA: 3s - loss: 0.0169 - accuracy: 0.99 - ETA: 3s - loss: 0.0176 - accuracy: 0.99 - ETA: 3s - loss: 0.0173 - accuracy: 0.99 - ETA: 3s - loss: 0.0177 - accuracy: 0.99 - ETA: 3s - loss: 0.0190 - accuracy: 0.99 - ETA: 3s - loss: 0.0194 - accuracy: 0.99 - ETA: 3s - loss: 0.0193 - accuracy: 0.99 - ETA: 3s - loss: 0.0190 - accuracy: 0.99 - ETA: 2s - loss: 0.0189 - accuracy: 0.99 - ETA: 2s - loss: 0.0188 - accuracy: 0.99 - ETA: 2s - loss: 0.0186 - accuracy: 0.99 - ETA: 2s - loss: 0.0186 - accuracy: 0.99 - ETA: 2s - loss: 0.0187 - accuracy: 0.99 - ETA: 2s - loss: 0.0187 - accuracy: 0.99 - ETA: 2s - loss: 0.0188 - accuracy: 0.99 - ETA: 2s - loss: 0.0191 - accuracy: 0.99 - ETA: 2s - loss: 0.0192 - accuracy: 0.99 - ETA: 2s - loss: 0.0198 - accuracy: 0.99 - ETA: 2s - loss: 0.0195 - accuracy: 0.99 - ETA: 2s - loss: 0.0197 - accuracy: 0.99 - ETA: 2s - loss: 0.0199 - accuracy: 0.99 - ETA: 2s - loss: 0.0198 - accuracy: 0.99 - ETA: 2s - loss: 0.0200 - accuracy: 0.99 - ETA: 2s - loss: 0.0197 - accuracy: 0.99 - ETA: 2s - loss: 0.0195 - accuracy: 0.99 - ETA: 2s - loss: 0.0192 - accuracy: 0.99 - ETA: 2s - loss: 0.0192 - accuracy: 0.99 - ETA: 1s - loss: 0.0192 - accuracy: 0.99 - ETA: 1s - loss: 0.0191 - accuracy: 0.99 - ETA: 1s - loss: 0.0193 - accuracy: 0.99 - ETA: 1s - loss: 0.0195 - accuracy: 0.99 - ETA: 1s - loss: 0.0195 - accuracy: 0.99 - ETA: 1s - loss: 0.0197 - accuracy: 0.99 - ETA: 1s - loss: 0.0198 - accuracy: 0.99 - ETA: 1s - loss: 0.0197 - accuracy: 0.99 - ETA: 1s - loss: 0.0199 - accuracy: 0.99 - ETA: 1s - loss: 0.0203 - accuracy: 0.99 - ETA: 1s - loss: 0.0205 - accuracy: 0.99 - ETA: 1s - loss: 0.0206 - accuracy: 0.99 - ETA: 1s - loss: 0.0204 - accuracy: 0.99 - ETA: 1s - loss: 0.0205 - accuracy: 0.99 - ETA: 1s - loss: 0.0204 - accuracy: 0.99 - ETA: 1s - loss: 0.0206 - accuracy: 0.99 - ETA: 1s - loss: 0.0205 - accuracy: 0.99 - ETA: 1s - loss: 0.0204 - accuracy: 0.99 - ETA: 1s - loss: 0.0205 - accuracy: 0.99 - ETA: 0s - loss: 0.0204 - accuracy: 0.99 - ETA: 0s - loss: 0.0205 - accuracy: 0.99 - ETA: 0s - loss: 0.0207 - accuracy: 0.99 - ETA: 0s - loss: 0.0209 - accuracy: 0.99 - ETA: 0s - loss: 0.0209 - accuracy: 0.99 - ETA: 0s - loss: 0.0208 - accuracy: 0.99 - ETA: 0s - loss: 0.0207 - accuracy: 0.99 - ETA: 0s - loss: 0.0206 - accuracy: 0.99 - ETA: 0s - loss: 0.0207 - accuracy: 0.99 - ETA: 0s - loss: 0.0207 - accuracy: 0.99 - ETA: 0s - loss: 0.0209 - accuracy: 0.99 - ETA: 0s - loss: 0.0209 - accuracy: 0.99 - ETA: 0s - loss: 0.0209 - accuracy: 0.99 - ETA: 0s - loss: 0.0208 - accuracy: 0.99 - ETA: 0s - loss: 0.0208 - accuracy: 0.99 - ETA: 0s - loss: 0.0207 - accuracy: 0.99 - ETA: 0s - loss: 0.0207 - accuracy: 0.99 - ETA: 0s - loss: 0.0206 - accuracy: 0.99 - ETA: 0s - loss: 0.0206 - accuracy: 0.99 - ETA: 0s - loss: 0.0206 - accuracy: 0.99 - 4s 2ms/step - loss: 0.0206 - accuracy: 0.9933 - val_loss: 0.0839 - val_accuracy: 0.9762\n",
      "Epoch 8/10\n",
      "1875/1875 [==============================] - ETA: 0s - loss: 0.0068 - accuracy: 1.00 - ETA: 3s - loss: 0.0152 - accuracy: 0.99 - ETA: 3s - loss: 0.0140 - accuracy: 0.99 - ETA: 3s - loss: 0.0129 - accuracy: 0.99 - ETA: 3s - loss: 0.0121 - accuracy: 0.99 - ETA: 3s - loss: 0.0127 - accuracy: 0.99 - ETA: 3s - loss: 0.0121 - accuracy: 0.99 - ETA: 3s - loss: 0.0110 - accuracy: 0.99 - ETA: 3s - loss: 0.0115 - accuracy: 0.99 - ETA: 3s - loss: 0.0121 - accuracy: 0.99 - ETA: 3s - loss: 0.0115 - accuracy: 0.99 - ETA: 3s - loss: 0.0117 - accuracy: 0.99 - ETA: 3s - loss: 0.0118 - accuracy: 0.99 - ETA: 3s - loss: 0.0116 - accuracy: 0.99 - ETA: 3s - loss: 0.0115 - accuracy: 0.99 - ETA: 3s - loss: 0.0114 - accuracy: 0.99 - ETA: 3s - loss: 0.0116 - accuracy: 0.99 - ETA: 3s - loss: 0.0117 - accuracy: 0.99 - ETA: 2s - loss: 0.0119 - accuracy: 0.99 - ETA: 2s - loss: 0.0119 - accuracy: 0.99 - ETA: 2s - loss: 0.0130 - accuracy: 0.99 - ETA: 2s - loss: 0.0128 - accuracy: 0.99 - ETA: 2s - loss: 0.0127 - accuracy: 0.99 - ETA: 2s - loss: 0.0128 - accuracy: 0.99 - ETA: 2s - loss: 0.0127 - accuracy: 0.99 - ETA: 2s - loss: 0.0127 - accuracy: 0.99 - ETA: 2s - loss: 0.0129 - accuracy: 0.99 - ETA: 2s - loss: 0.0126 - accuracy: 0.99 - ETA: 2s - loss: 0.0127 - accuracy: 0.99 - ETA: 2s - loss: 0.0128 - accuracy: 0.99 - ETA: 2s - loss: 0.0126 - accuracy: 0.99 - ETA: 2s - loss: 0.0127 - accuracy: 0.99 - ETA: 2s - loss: 0.0126 - accuracy: 0.99 - ETA: 2s - loss: 0.0125 - accuracy: 0.99 - ETA: 2s - loss: 0.0125 - accuracy: 0.99 - ETA: 2s - loss: 0.0127 - accuracy: 0.99 - ETA: 2s - loss: 0.0129 - accuracy: 0.99 - ETA: 1s - loss: 0.0129 - accuracy: 0.99 - ETA: 1s - loss: 0.0133 - accuracy: 0.99 - ETA: 1s - loss: 0.0133 - accuracy: 0.99 - ETA: 1s - loss: 0.0135 - accuracy: 0.99 - ETA: 1s - loss: 0.0135 - accuracy: 0.99 - ETA: 1s - loss: 0.0137 - accuracy: 0.99 - ETA: 1s - loss: 0.0137 - accuracy: 0.99 - ETA: 1s - loss: 0.0137 - accuracy: 0.99 - ETA: 1s - loss: 0.0140 - accuracy: 0.99 - ETA: 1s - loss: 0.0140 - accuracy: 0.99 - ETA: 1s - loss: 0.0139 - accuracy: 0.99 - ETA: 1s - loss: 0.0139 - accuracy: 0.99 - ETA: 1s - loss: 0.0140 - accuracy: 0.99 - ETA: 1s - loss: 0.0143 - accuracy: 0.99 - ETA: 1s - loss: 0.0147 - accuracy: 0.99 - ETA: 1s - loss: 0.0148 - accuracy: 0.99 - ETA: 1s - loss: 0.0147 - accuracy: 0.99 - ETA: 1s - loss: 0.0147 - accuracy: 0.99 - ETA: 1s - loss: 0.0151 - accuracy: 0.99 - ETA: 1s - loss: 0.0151 - accuracy: 0.99 - ETA: 0s - loss: 0.0152 - accuracy: 0.99 - ETA: 0s - loss: 0.0152 - accuracy: 0.99 - ETA: 0s - loss: 0.0152 - accuracy: 0.99 - ETA: 0s - loss: 0.0151 - accuracy: 0.99 - ETA: 0s - loss: 0.0153 - accuracy: 0.99 - ETA: 0s - loss: 0.0154 - accuracy: 0.99 - ETA: 0s - loss: 0.0153 - accuracy: 0.99 - ETA: 0s - loss: 0.0152 - accuracy: 0.99 - ETA: 0s - loss: 0.0153 - accuracy: 0.99 - ETA: 0s - loss: 0.0153 - accuracy: 0.99 - ETA: 0s - loss: 0.0153 - accuracy: 0.99 - ETA: 0s - loss: 0.0153 - accuracy: 0.99 - ETA: 0s - loss: 0.0153 - accuracy: 0.99 - ETA: 0s - loss: 0.0152 - accuracy: 0.99 - ETA: 0s - loss: 0.0155 - accuracy: 0.99 - ETA: 0s - loss: 0.0155 - accuracy: 0.99 - ETA: 0s - loss: 0.0156 - accuracy: 0.99 - ETA: 0s - loss: 0.0157 - accuracy: 0.99 - ETA: 0s - loss: 0.0158 - accuracy: 0.99 - 4s 2ms/step - loss: 0.0158 - accuracy: 0.9949 - val_loss: 0.0726 - val_accuracy: 0.9790\n",
      "Epoch 9/10\n"
     ]
    },
    {
     "name": "stdout",
     "output_type": "stream",
     "text": [
      "1875/1875 [==============================] - ETA: 0s - loss: 0.0038 - accuracy: 1.00 - ETA: 3s - loss: 0.0086 - accuracy: 0.99 - ETA: 3s - loss: 0.0072 - accuracy: 0.99 - ETA: 3s - loss: 0.0082 - accuracy: 0.99 - ETA: 3s - loss: 0.0075 - accuracy: 0.99 - ETA: 3s - loss: 0.0081 - accuracy: 0.99 - ETA: 3s - loss: 0.0088 - accuracy: 0.99 - ETA: 3s - loss: 0.0099 - accuracy: 0.99 - ETA: 3s - loss: 0.0104 - accuracy: 0.99 - ETA: 3s - loss: 0.0103 - accuracy: 0.99 - ETA: 3s - loss: 0.0104 - accuracy: 0.99 - ETA: 3s - loss: 0.0105 - accuracy: 0.99 - ETA: 3s - loss: 0.0117 - accuracy: 0.99 - ETA: 3s - loss: 0.0124 - accuracy: 0.99 - ETA: 3s - loss: 0.0123 - accuracy: 0.99 - ETA: 3s - loss: 0.0130 - accuracy: 0.99 - ETA: 3s - loss: 0.0126 - accuracy: 0.99 - ETA: 3s - loss: 0.0128 - accuracy: 0.99 - ETA: 3s - loss: 0.0127 - accuracy: 0.99 - ETA: 2s - loss: 0.0123 - accuracy: 0.99 - ETA: 2s - loss: 0.0121 - accuracy: 0.99 - ETA: 2s - loss: 0.0122 - accuracy: 0.99 - ETA: 2s - loss: 0.0120 - accuracy: 0.99 - ETA: 2s - loss: 0.0119 - accuracy: 0.99 - ETA: 2s - loss: 0.0118 - accuracy: 0.99 - ETA: 2s - loss: 0.0122 - accuracy: 0.99 - ETA: 2s - loss: 0.0123 - accuracy: 0.99 - ETA: 2s - loss: 0.0121 - accuracy: 0.99 - ETA: 2s - loss: 0.0120 - accuracy: 0.99 - ETA: 2s - loss: 0.0120 - accuracy: 0.99 - ETA: 2s - loss: 0.0119 - accuracy: 0.99 - ETA: 2s - loss: 0.0119 - accuracy: 0.99 - ETA: 2s - loss: 0.0120 - accuracy: 0.99 - ETA: 2s - loss: 0.0120 - accuracy: 0.99 - ETA: 2s - loss: 0.0118 - accuracy: 0.99 - ETA: 2s - loss: 0.0117 - accuracy: 0.99 - ETA: 2s - loss: 0.0117 - accuracy: 0.99 - ETA: 2s - loss: 0.0120 - accuracy: 0.99 - ETA: 2s - loss: 0.0119 - accuracy: 0.99 - ETA: 2s - loss: 0.0121 - accuracy: 0.99 - ETA: 2s - loss: 0.0121 - accuracy: 0.99 - ETA: 2s - loss: 0.0124 - accuracy: 0.99 - ETA: 2s - loss: 0.0123 - accuracy: 0.99 - ETA: 1s - loss: 0.0124 - accuracy: 0.99 - ETA: 1s - loss: 0.0124 - accuracy: 0.99 - ETA: 1s - loss: 0.0125 - accuracy: 0.99 - ETA: 1s - loss: 0.0125 - accuracy: 0.99 - ETA: 1s - loss: 0.0127 - accuracy: 0.99 - ETA: 1s - loss: 0.0128 - accuracy: 0.99 - ETA: 1s - loss: 0.0129 - accuracy: 0.99 - ETA: 1s - loss: 0.0128 - accuracy: 0.99 - ETA: 1s - loss: 0.0128 - accuracy: 0.99 - ETA: 1s - loss: 0.0126 - accuracy: 0.99 - ETA: 1s - loss: 0.0128 - accuracy: 0.99 - ETA: 1s - loss: 0.0129 - accuracy: 0.99 - ETA: 1s - loss: 0.0129 - accuracy: 0.99 - ETA: 1s - loss: 0.0128 - accuracy: 0.99 - ETA: 1s - loss: 0.0127 - accuracy: 0.99 - ETA: 1s - loss: 0.0126 - accuracy: 0.99 - ETA: 1s - loss: 0.0126 - accuracy: 0.99 - ETA: 1s - loss: 0.0126 - accuracy: 0.99 - ETA: 0s - loss: 0.0126 - accuracy: 0.99 - ETA: 0s - loss: 0.0129 - accuracy: 0.99 - ETA: 0s - loss: 0.0128 - accuracy: 0.99 - ETA: 0s - loss: 0.0131 - accuracy: 0.99 - ETA: 0s - loss: 0.0133 - accuracy: 0.99 - ETA: 0s - loss: 0.0135 - accuracy: 0.99 - ETA: 0s - loss: 0.0135 - accuracy: 0.99 - ETA: 0s - loss: 0.0135 - accuracy: 0.99 - ETA: 0s - loss: 0.0134 - accuracy: 0.99 - ETA: 0s - loss: 0.0135 - accuracy: 0.99 - ETA: 0s - loss: 0.0135 - accuracy: 0.99 - ETA: 0s - loss: 0.0137 - accuracy: 0.99 - ETA: 0s - loss: 0.0137 - accuracy: 0.99 - ETA: 0s - loss: 0.0136 - accuracy: 0.99 - ETA: 0s - loss: 0.0136 - accuracy: 0.99 - ETA: 0s - loss: 0.0136 - accuracy: 0.99 - ETA: 0s - loss: 0.0137 - accuracy: 0.99 - ETA: 0s - loss: 0.0137 - accuracy: 0.99 - ETA: 0s - loss: 0.0137 - accuracy: 0.99 - 4s 2ms/step - loss: 0.0137 - accuracy: 0.9957 - val_loss: 0.0773 - val_accuracy: 0.9806\n",
      "Epoch 10/10\n",
      "1875/1875 [==============================] - ETA: 0s - loss: 0.0051 - accuracy: 1.00 - ETA: 3s - loss: 0.0082 - accuracy: 0.99 - ETA: 3s - loss: 0.0071 - accuracy: 0.99 - ETA: 3s - loss: 0.0057 - accuracy: 0.99 - ETA: 3s - loss: 0.0066 - accuracy: 0.99 - ETA: 3s - loss: 0.0058 - accuracy: 0.99 - ETA: 3s - loss: 0.0054 - accuracy: 0.99 - ETA: 3s - loss: 0.0051 - accuracy: 0.99 - ETA: 3s - loss: 0.0049 - accuracy: 0.99 - ETA: 3s - loss: 0.0046 - accuracy: 0.99 - ETA: 3s - loss: 0.0045 - accuracy: 0.99 - ETA: 3s - loss: 0.0044 - accuracy: 0.99 - ETA: 3s - loss: 0.0046 - accuracy: 0.99 - ETA: 3s - loss: 0.0046 - accuracy: 0.99 - ETA: 3s - loss: 0.0052 - accuracy: 0.99 - ETA: 3s - loss: 0.0057 - accuracy: 0.99 - ETA: 3s - loss: 0.0057 - accuracy: 0.99 - ETA: 3s - loss: 0.0056 - accuracy: 0.99 - ETA: 2s - loss: 0.0054 - accuracy: 0.99 - ETA: 2s - loss: 0.0058 - accuracy: 0.99 - ETA: 2s - loss: 0.0060 - accuracy: 0.99 - ETA: 2s - loss: 0.0059 - accuracy: 0.99 - ETA: 2s - loss: 0.0063 - accuracy: 0.99 - ETA: 2s - loss: 0.0068 - accuracy: 0.99 - ETA: 2s - loss: 0.0071 - accuracy: 0.99 - ETA: 2s - loss: 0.0074 - accuracy: 0.99 - ETA: 2s - loss: 0.0074 - accuracy: 0.99 - ETA: 2s - loss: 0.0074 - accuracy: 0.99 - ETA: 2s - loss: 0.0073 - accuracy: 0.99 - ETA: 2s - loss: 0.0075 - accuracy: 0.99 - ETA: 2s - loss: 0.0077 - accuracy: 0.99 - ETA: 2s - loss: 0.0078 - accuracy: 0.99 - ETA: 2s - loss: 0.0080 - accuracy: 0.99 - ETA: 2s - loss: 0.0082 - accuracy: 0.99 - ETA: 2s - loss: 0.0085 - accuracy: 0.99 - ETA: 2s - loss: 0.0088 - accuracy: 0.99 - ETA: 2s - loss: 0.0092 - accuracy: 0.99 - ETA: 1s - loss: 0.0091 - accuracy: 0.99 - ETA: 1s - loss: 0.0091 - accuracy: 0.99 - ETA: 1s - loss: 0.0091 - accuracy: 0.99 - ETA: 1s - loss: 0.0090 - accuracy: 0.99 - ETA: 1s - loss: 0.0090 - accuracy: 0.99 - ETA: 1s - loss: 0.0091 - accuracy: 0.99 - ETA: 1s - loss: 0.0090 - accuracy: 0.99 - ETA: 1s - loss: 0.0089 - accuracy: 0.99 - ETA: 1s - loss: 0.0088 - accuracy: 0.99 - ETA: 1s - loss: 0.0087 - accuracy: 0.99 - ETA: 1s - loss: 0.0088 - accuracy: 0.99 - ETA: 1s - loss: 0.0090 - accuracy: 0.99 - ETA: 1s - loss: 0.0091 - accuracy: 0.99 - ETA: 1s - loss: 0.0094 - accuracy: 0.99 - ETA: 1s - loss: 0.0095 - accuracy: 0.99 - ETA: 1s - loss: 0.0095 - accuracy: 0.99 - ETA: 1s - loss: 0.0096 - accuracy: 0.99 - ETA: 1s - loss: 0.0097 - accuracy: 0.99 - ETA: 1s - loss: 0.0098 - accuracy: 0.99 - ETA: 1s - loss: 0.0097 - accuracy: 0.99 - ETA: 0s - loss: 0.0097 - accuracy: 0.99 - ETA: 0s - loss: 0.0097 - accuracy: 0.99 - ETA: 0s - loss: 0.0096 - accuracy: 0.99 - ETA: 0s - loss: 0.0096 - accuracy: 0.99 - ETA: 0s - loss: 0.0097 - accuracy: 0.99 - ETA: 0s - loss: 0.0099 - accuracy: 0.99 - ETA: 0s - loss: 0.0100 - accuracy: 0.99 - ETA: 0s - loss: 0.0100 - accuracy: 0.99 - ETA: 0s - loss: 0.0102 - accuracy: 0.99 - ETA: 0s - loss: 0.0103 - accuracy: 0.99 - ETA: 0s - loss: 0.0105 - accuracy: 0.99 - ETA: 0s - loss: 0.0106 - accuracy: 0.99 - ETA: 0s - loss: 0.0108 - accuracy: 0.99 - ETA: 0s - loss: 0.0108 - accuracy: 0.99 - ETA: 0s - loss: 0.0109 - accuracy: 0.99 - ETA: 0s - loss: 0.0109 - accuracy: 0.99 - ETA: 0s - loss: 0.0109 - accuracy: 0.99 - ETA: 0s - loss: 0.0108 - accuracy: 0.99 - ETA: 0s - loss: 0.0112 - accuracy: 0.99 - ETA: 0s - loss: 0.0112 - accuracy: 0.99 - 4s 2ms/step - loss: 0.0112 - accuracy: 0.9964 - val_loss: 0.0812 - val_accuracy: 0.9799\n"
     ]
    }
   ],
   "source": [
    "model = tuner.hypermodel.build(best_hps)\n",
    "history = model.fit(img_train, label_train, epochs = 10, validation_data = (img_test, label_test))"
   ]
  },
  {
   "cell_type": "code",
   "execution_count": 17,
   "metadata": {},
   "outputs": [],
   "source": [
    "import matplotlib.pyplot as plt\n",
    "\n",
    "def plotLearningCurve(history,epochs):\n",
    "    epochRange = range(1,epochs+1)\n",
    "    plt.plot(epochRange,history.history['accuracy'])\n",
    "    plt.plot(epochRange,history.history['val_accuracy'])\n",
    "    plt.title('Model Accuracy')\n",
    "    plt.xlabel('Epoch')\n",
    "    plt.ylabel('Accuracy')\n",
    "    plt.legend(['Train','Validation'],loc='upper left')\n",
    "    plt.show()\n",
    "\n",
    "    plt.plot(epochRange,history.history['loss'])\n",
    "    plt.plot(epochRange,history.history['val_loss'])\n",
    "    plt.title('Model Loss')\n",
    "    plt.xlabel('Epoch')\n",
    "    plt.ylabel('Loss')\n",
    "    plt.legend(['Train','Validation'],loc='upper left')\n",
    "    plt.show()"
   ]
  },
  {
   "cell_type": "code",
   "execution_count": 18,
   "metadata": {},
   "outputs": [
    {
     "data": {
      "image/png": "[encoded data removed]",
      "text/plain": [
       "<Figure size 432x288 with 1 Axes>"
      ]
     },
     "metadata": {
      "needs_background": "light"
     },
     "output_type": "display_data"
    },
    {
     "data": {
      "image/png": "[encoded data removed]",
      "text/plain": [
       "<Figure size 432x288 with 1 Axes>"
      ]
     },
     "metadata": {
      "needs_background": "light"
     },
     "output_type": "display_data"
    }
   ],
   "source": [
    "plotLearningCurve(history,10)"
   ]
  },
  {
   "cell_type": "code",
   "execution_count": 25,
   "metadata": {},
   "outputs": [
    {
     "data": {
      "text/plain": [
       "array([[ -8.665163  ,  -5.211869  ,  -8.111408  , ...,  13.063497  ,\n",
       "         -7.3786077 ,  -0.42802238],\n",
       "       [-11.7956085 ,   2.5545397 ,  24.291838  , ..., -27.804937  ,\n",
       "         -6.5978584 , -22.935427  ],\n",
       "       [-13.896352  ,   8.017521  ,  -3.270771  , ...,  -3.6810007 ,\n",
       "         -3.707912  , -12.519205  ],\n",
       "       ...,\n",
       "       [-25.966867  , -15.8514595 , -24.743807  , ...,   0.76080924,\n",
       "         -5.9394913 ,   0.74876934],\n",
       "       [-14.242384  , -23.20417   , -16.02569   , ...,  -7.993256  ,\n",
       "          0.32314363, -18.457308  ],\n",
       "       [ -2.82004   , -18.201586  ,  -8.8160715 , ..., -15.477691  ,\n",
       "        -14.173366  , -14.427341  ]], dtype=float32)"
      ]
     },
     "execution_count": 25,
     "metadata": {},
     "output_type": "execute_result"
    }
   ],
   "source": [
    "test_labels=model.predict(img_test)\n",
    "test_labels"
   ]
  },
  {
   "cell_type": "code",
   "execution_count": 26,
   "metadata": {},
   "outputs": [
    {
     "name": "stdout",
     "output_type": "stream",
     "text": [
      "(10000, 10)\n"
     ]
    }
   ],
   "source": [
    "print(test_labels.shape)"
   ]
  },
  {
   "cell_type": "code",
   "execution_count": 28,
   "metadata": {},
   "outputs": [
    {
     "name": "stdout",
     "output_type": "stream",
     "text": [
      "      ImageId  Label\n",
      "0           1      7\n",
      "1           2      2\n",
      "2           3      1\n",
      "3           4      0\n",
      "4           5      4\n",
      "...       ...    ...\n",
      "9995     9996      2\n",
      "9996     9997      3\n",
      "9997     9998      4\n",
      "9998     9999      5\n",
      "9999    10000      6\n",
      "\n",
      "[10000 rows x 2 columns]\n"
     ]
    }
   ],
   "source": [
    "results = np.argmax(test_labels,axis=-1)\n",
    "results = pd.Series(results,name=\"Label\")\n",
    "submission = pd.concat([pd.Series(range(1,10001),name = \"ImageId\"),results],axis = 1)\n",
    "\n",
    "print(submission)\n",
    "\n",
    "submission.to_csv(\"submission.csv\",index=False)"
   ]
  },
  {
   "cell_type": "code",
   "execution_count": null,
   "metadata": {},
   "outputs": [],
   "source": []
  }
 ],
 "metadata": {
  "kernelspec": {
   "display_name": "Python 3",
   "language": "python",
   "name": "python3"
  },
  "language_info": {
   "codemirror_mode": {
    "name": "ipython",
    "version": 3
   },
   "file_extension": ".py",
   "mimetype": "text/x-python",
   "name": "python",
   "nbconvert_exporter": "python",
   "pygments_lexer": "ipython3",
   "version": "3.7.7"
  }
 },
 "nbformat": 4,
 "nbformat_minor": 4
}
